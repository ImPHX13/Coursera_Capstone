{
 "cells": [
  {
   "cell_type": "markdown",
   "metadata": {},
   "source": [
    "# The Battle of the Neighborhoods - Week 1\n"
   ]
  },
  {
   "cell_type": "markdown",
   "metadata": {},
   "source": [
    "## Data Requirements"
   ]
  },
  {
   "cell_type": "markdown",
   "metadata": {},
   "source": [
    "The city we will be analyzing is New York.\n",
    "\n",
    "The data sources for this project is as below:-\n",
    "\n",
    "1.https://geo.nyu.edu/catalog/nyu_2451_34572\n",
    "\n",
    "New York has 5 Boroughs and this dataset has comprehensive data about latitudes and longitudes of all the neighborhoods in these 5 Boroughs.\n",
    "\n",
    "2.https://data.cityofnewyork.us/dataset/DOHMH-Farmers-Markets-and-Food-Boxes/8vwk-6iz2\n",
    "\n",
    "This dataset contains information of Farmer's Markets. This gives access to locally and fresh produce avialable in New York.\n",
    "\n",
    "3.https://en.wikipedia.org/wiki/New_York_City\n",
    "https://en.wikipedia.org/wiki/Economy_of_New_York_City\n",
    "https://en.wikipedia.org/wiki/Portal:New_York_City\n",
    "https://en.wikipedia.org/wiki/Cuisine_of_New_York_City\n",
    "https://en.wikipedia.org/wiki/List_of_Michelin_starred_restaurants_in_New_York_City\n",
    "\n",
    "The above links give information about New York's population, demographics and different cuisines.\n",
    "\n",
    "4.Foursquare API data lets us explore location data of New York City"
   ]
  }
 ],
 "metadata": {
  "kernelspec": {
   "display_name": "Python 3",
   "language": "python",
   "name": "python3"
  },
  "language_info": {
   "codemirror_mode": {
    "name": "ipython",
    "version": 3
   },
   "file_extension": ".py",
   "mimetype": "text/x-python",
   "name": "python",
   "nbconvert_exporter": "python",
   "pygments_lexer": "ipython3",
   "version": "3.7.3"
  }
 },
 "nbformat": 4,
 "nbformat_minor": 4
}
