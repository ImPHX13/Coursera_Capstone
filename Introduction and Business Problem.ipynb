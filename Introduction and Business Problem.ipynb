{
 "cells": [
  {
   "cell_type": "markdown",
   "metadata": {},
   "source": [
    "# The Battle of the Neighborhoods - Week 1\n",
    "\n",
    "# Introduction and Business Problem"
   ]
  },
  {
   "cell_type": "markdown",
   "metadata": {},
   "source": [
    "### About New York\n",
    "The City of New York, is the most populous city in the United States. It is diverse, and the financial capital of the United States. They 're multicultural. It offers a lot of business oppourtunities and an atmosphere conducive to companies. It has brought into the market a number of different companies. It is a global hub of enterprise and trade. The city is a major center in the United States of America for banking and finance, retail, international trade , transportation, tourism, real estate, digital media, conventional media, legal services, accounting, insurance, theatre, music, and arts.\n",
    "\n",
    "That also means a highly competitive marketplace. As it is a highly developed area, it is also one of the highest costs of doing business. Therefore any new business venture or expansion has to be carefully analyzed. The insights derived from the analysis will give a good understanding of the business environment that helps to targete the market strategically. This will assist in risk management."
   ]
  },
  {
   "cell_type": "markdown",
   "metadata": {},
   "source": [
    "### Business Problem "
   ]
  },
  {
   "cell_type": "markdown",
   "metadata": {},
   "source": [
    "New York is known for its diverse restaurant scene. One can find cuisines from all over the world. Being home to over millions of immigrants has helped New York cement its place as a city of multi-cultural foods and delicacies.\n",
    "Italian immigrants have a penchant for establishing fine pizzeria, Chinese and Asians bring in their cuisine for across the globe to New York. Jewish and Middle Eastern immigrants serve delicacies like Falafel, Hummus, etc.\n",
    "Indian immigrants bring their burst of spices and serve foods like Paneer Butter Masala, Masala Dosa, etc. Now, this just the tip of the iceberg; there are thousands of street vendors selling all sorts of things pretzels, bagels, burgers, hotdogs, etc.\n",
    "\n",
    "From the above its pretty obvious that to survive the food scene in New York is no small task. So, this brings us to the business problem which is how can one gain enough customers to make it in New York. This requires analyzing the location data of New York and look for some important insights like competitors, Boroughs, demographics, availability of suppliers, high footfall areas like parks, entertainment areas, etc.\n",
    "\n",
    "By properly analyzing the above, one can decide the viability of setting up shop in a particular area."
   ]
  },
  {
   "cell_type": "markdown",
   "metadata": {},
   "source": [
    "## Goal of this Data Science Project"
   ]
  },
  {
   "cell_type": "markdown",
   "metadata": {},
   "source": [
    "The goal here is to provide a customer with enough insights into the restaurant scene in New York so that he/she can decide on setting up their establishment with some guarantee of success based on available data."
   ]
  }
 ],
 "metadata": {
  "kernelspec": {
   "display_name": "Python 3",
   "language": "python",
   "name": "python3"
  },
  "language_info": {
   "codemirror_mode": {
    "name": "ipython",
    "version": 3
   },
   "file_extension": ".py",
   "mimetype": "text/x-python",
   "name": "python",
   "nbconvert_exporter": "python",
   "pygments_lexer": "ipython3",
   "version": "3.7.3"
  }
 },
 "nbformat": 4,
 "nbformat_minor": 4
}
